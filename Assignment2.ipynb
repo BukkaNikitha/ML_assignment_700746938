{
 "cells": [
  {
   "cell_type": "code",
   "execution_count": 48,
   "id": "f68463ae",
   "metadata": {},
   "outputs": [
    {
     "name": "stdout",
     "output_type": "stream",
     "text": [
      "* \r\n",
      "* * \r\n",
      "* * * \r\n",
      "* * * * \r\n",
      "* * * * * \r\n",
      "* * * * \r\n",
      "* * * \r\n",
      "* * \r\n",
      "* \r\n"
     ]
    }
   ],
   "source": [
    "#1 Use a python code to display the following star pattern using the for loop\n",
    "\n",
    "for i in range(0,5):\n",
    "    for j in range(0,i+1):\n",
    "        print(\"* \",end=\"\")#\"end\" assigns empty string at the end of print statement and continues the next print from its end\n",
    "    print(\"\\r\") #\\r is carriage return\n",
    "for m in range(4,0,-1):\n",
    "    for n in range(0,m):\n",
    "        print(\"* \",end=\"\")\n",
    "    print(\"\\r\")"
   ]
  },
  {
   "cell_type": "code",
   "execution_count": 49,
   "id": "4d79fc69",
   "metadata": {},
   "outputs": [
    {
     "name": "stdout",
     "output_type": "stream",
     "text": [
      "[20, 40, 60, 80, 100]\n"
     ]
    }
   ],
   "source": [
    "# 2. Use looping to output the elements from a provided list present at odd indexes.\n",
    "#my_list = [10, 20, 30, 40, 50, 60, 70, 80, 90, 100]\n",
    "\n",
    "my_list = [10, 20, 30, 40, 50, 60, 70, 80, 90, 100]\n",
    "odd_indexes=[]\n",
    "for i in range(1,len(my_list),2): #To get odd indexes in list\n",
    "    odd_indexes.append(my_list[i])\n",
    "print(odd_indexes)"
   ]
  },
  {
   "cell_type": "code",
   "execution_count": 30,
   "id": "b5a71206",
   "metadata": {},
   "outputs": [
    {
     "name": "stdout",
     "output_type": "stream",
     "text": [
      "[23, 'Python', 23.98]\n",
      "[<class 'int'>, <class 'str'>, <class 'float'>]\n"
     ]
    }
   ],
   "source": [
    "# 3. Write a code that appends the type of elements from a given list.\n",
    "#Input\n",
    "#x = [23, ‘Python’, 23.98]\n",
    "#Expected output\n",
    "#[23, 'Python', 23.98]\n",
    "#[<class 'int'>, <class 'str'>, <class 'float'>]\n",
    "\n",
    "x = [23, 'Python', 23.98]\n",
    "type1=[]\n",
    "for i in x:\n",
    "    type1.append(type(i)) #finding the type of elements using type() in-built funtion\n",
    "print(x)\n",
    "print(type1)"
   ]
  },
  {
   "cell_type": "code",
   "execution_count": 50,
   "id": "b6f82d33",
   "metadata": {},
   "outputs": [
    {
     "name": "stdout",
     "output_type": "stream",
     "text": [
      "[1, 2, 3, 4, 5]\n"
     ]
    }
   ],
   "source": [
    "# 4. Write a function that takes a list and returns a new list with unique items of the first list.\n",
    "#Sample List: [1,2,3,3,3,3,4,5]\n",
    "#Unique List: [1, 2, 3, 4, 5]\n",
    "\n",
    "def unique_values(l):\n",
    "    set1=set(l) # converting list to set to eliminate duplicate values from the list\n",
    "    unique_list=list(set1) #Again converting set to list using list() \n",
    "    return unique_list\n",
    "\n",
    "list1=[1,2,3,3,3,3,4,5]\n",
    "l1=unique_values(list1) #calling unique_values() user defined funtion\n",
    "print(l1)"
   ]
  },
  {
   "cell_type": "code",
   "execution_count": 46,
   "id": "81b26d47",
   "metadata": {},
   "outputs": [
    {
     "name": "stdout",
     "output_type": "stream",
     "text": [
      "No. of Upper-case characters:  3\n",
      "No. of Lower-case Characters:  12\n"
     ]
    }
   ],
   "source": [
    "#5. Write a function that accepts a string and calculate the number of upper-case letters and lower-case letters.\n",
    "#Input String: 'The quick Brow Fox'\n",
    "#Expected Output:\n",
    "#No. of Upper-case characters: 3\n",
    "#No. of Lower-case Characters: 12\n",
    "\n",
    "def count_Lower_Upper(s):\n",
    "    lowercase=0\n",
    "    uppercase=0\n",
    "    for i in s:\n",
    "        if (i>='a'and i<='z'): #Condition for lower-case letters\n",
    "            lowercase+=1 #incrementing lowercase if condition is true   \n",
    "        if (i>='A'and i<='Z'): #Condition for upper-case letters\n",
    "            uppercase+=1 #incrementing uppercase if condition is true\n",
    "    print(\"No. of Upper-case characters: \",uppercase)\n",
    "    print(\"No. of Lower-case Characters: \",lowercase)\n",
    "    \n",
    "str1='The quick Brow Fox'\n",
    "count_Lower_Upper(str1) #calling count_Lower_Upper() user defined funtion"
   ]
  },
  {
   "cell_type": "code",
   "execution_count": null,
   "id": "9eeaaa56",
   "metadata": {},
   "outputs": [],
   "source": []
  },
  {
   "cell_type": "code",
   "execution_count": null,
   "id": "11fce77b",
   "metadata": {},
   "outputs": [],
   "source": []
  }
 ],
 "metadata": {
  "kernelspec": {
   "display_name": "Python 3 (ipykernel)",
   "language": "python",
   "name": "python3"
  },
  "language_info": {
   "codemirror_mode": {
    "name": "ipython",
    "version": 3
   },
   "file_extension": ".py",
   "mimetype": "text/x-python",
   "name": "python",
   "nbconvert_exporter": "python",
   "pygments_lexer": "ipython3",
   "version": "3.11.1"
  }
 },
 "nbformat": 4,
 "nbformat_minor": 5
}
