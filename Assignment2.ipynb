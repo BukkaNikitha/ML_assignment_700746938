{
 "cells": [
  {
   "cell_type": "code",
   "execution_count": 37,
   "id": "dab43031",
   "metadata": {},
   "outputs": [
    {
     "name": "stdout",
     "output_type": "stream",
     "text": [
      "* \r\n",
      "* * \r\n",
      "* * * \r\n",
      "* * * * \r\n",
      "* * * * * \r\n",
      "* * * * \r\n",
      "* * * \r\n",
      "* * \r\n",
      "* \r\n"
     ]
    }
   ],
   "source": [
    "#1 Use a python code to display the following star pattern using the for loop\n",
    "\n",
    "for i in range(0,5):\n",
    "    for j in range(0,i+1):\n",
    "        print(\"* \",end=\"\")\n",
    "    print(\"\\r\") #\\r is carriage return\n",
    "for m in range(4,0,-1):\n",
    "    for n in range(0,m):\n",
    "        print(\"* \",end=\"\")\n",
    "    print(\"\\r\")"
   ]
  },
  {
   "cell_type": "code",
   "execution_count": 39,
   "id": "89309aaa",
   "metadata": {},
   "outputs": [
    {
     "name": "stdout",
     "output_type": "stream",
     "text": [
      "20\n",
      "40\n",
      "60\n",
      "80\n",
      "100\n"
     ]
    }
   ],
   "source": [
    "# 2. Use looping to output the elements from a provided list present at odd indexes.\n",
    "#my_list = [10, 20, 30, 40, 50, 60, 70, 80, 90, 100]\n",
    "\n",
    "my_list = [10, 20, 30, 40, 50, 60, 70, 80, 90, 100]\n",
    "for i in range(1,len(my_list),2):\n",
    "    print(my_list[i])"
   ]
  },
  {
   "cell_type": "code",
   "execution_count": 30,
   "id": "f6c9560b",
   "metadata": {},
   "outputs": [
    {
     "name": "stdout",
     "output_type": "stream",
     "text": [
      "[23, 'Python', 23.98]\n",
      "[<class 'int'>, <class 'str'>, <class 'float'>]\n"
     ]
    }
   ],
   "source": [
    "# 3. Write a code that appends the type of elements from a given list.\n",
    "#Input\n",
    "#x = [23, ‘Python’, 23.98]\n",
    "#Expected output\n",
    "#[23, 'Python', 23.98]\n",
    "#[<class 'int'>, <class 'str'>, <class 'float'>]\n",
    "\n",
    "x = [23, 'Python', 23.98]\n",
    "type1=[]\n",
    "for i in x:\n",
    "    type1.append(type(i))\n",
    "print(x)\n",
    "print(type1)"
   ]
  },
  {
   "cell_type": "code",
   "execution_count": 31,
   "id": "68b6379e",
   "metadata": {},
   "outputs": [
    {
     "name": "stdout",
     "output_type": "stream",
     "text": [
      "[1, 2, 3, 4, 5]\n"
     ]
    }
   ],
   "source": [
    "# 4. Write a function that takes a list and returns a new list with unique items of the first list.\n",
    "#Sample List: [1,2,3,3,3,3,4,5]\n",
    "#Unique List: [1, 2, 3, 4, 5]\n",
    "\n",
    "list1=[1,2,3,3,3,3,4,5]\n",
    "set1=set(list1)\n",
    "UniqueList=list(set1)\n",
    "print(UniqueList)"
   ]
  },
  {
   "cell_type": "code",
   "execution_count": 32,
   "id": "6f02d77d",
   "metadata": {},
   "outputs": [
    {
     "name": "stdout",
     "output_type": "stream",
     "text": [
      "No. of Upper-case characters:  3\n",
      "No. of Lower-case Characters:  12\n"
     ]
    }
   ],
   "source": [
    "#5. Write a function that accepts a string and calculate the number of upper-case letters and lower-case letters.\n",
    "#Input String: 'The quick Brow Fox'\n",
    "#Expected Output:\n",
    "#No. of Upper-case characters: 3\n",
    "#No. of Lower-case Characters: 12\n",
    "\n",
    "string='The quick Brow Fox'\n",
    "lowercase=0\n",
    "uppercase=0\n",
    "for i in string:\n",
    "    if (i>='a'and i<='z'):\n",
    "        lowercase+=1             \n",
    "    if (i>='A'and i<='Z'):\n",
    "        uppercase+=1\n",
    "print(\"No. of Upper-case characters: \",uppercase)\n",
    "print(\"No. of Lower-case Characters: \",lowercase)"
   ]
  }
 ],
 "metadata": {
  "kernelspec": {
   "display_name": "Python 3 (ipykernel)",
   "language": "python",
   "name": "python3"
  },
  "language_info": {
   "codemirror_mode": {
    "name": "ipython",
    "version": 3
   },
   "file_extension": ".py",
   "mimetype": "text/x-python",
   "name": "python",
   "nbconvert_exporter": "python",
   "pygments_lexer": "ipython3",
   "version": "3.11.1"
  }
 },
 "nbformat": 4,
 "nbformat_minor": 5
}
