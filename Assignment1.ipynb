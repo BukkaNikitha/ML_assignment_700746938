{
 "cells": [
  {
   "cell_type": "code",
   "execution_count": 64,
   "id": "110a58c2",
   "metadata": {},
   "outputs": [
    {
     "name": "stdout",
     "output_type": "stream",
     "text": [
      "[19, 19, 20, 22, 24, 24, 24, 25, 25, 26]\n",
      "19\n",
      "26\n",
      "[19, 19, 20, 22, 24, 24, 24, 25, 25, 26, 19]\n",
      "[19, 19, 20, 22, 24, 24, 24, 25, 25, 26, 19, 26]\n",
      "24.0\n",
      "22.75\n",
      "7\n"
     ]
    }
   ],
   "source": [
    "# The following is a list of 10 students ages:\n",
    "ages=[19,22,19,24,20,25,26,24,25,24]\n",
    "\n",
    "# Sort the list and find the min and max age\n",
    "ages.sort()\n",
    "min_age=ages[0]\n",
    "max_age=ages[len(ages)-1]\n",
    "print(ages)\n",
    "print(min_age)\n",
    "print(max_age)\n",
    "\n",
    "# Add the min age and the max age again to the list\n",
    "ages.append(min_age)\n",
    "print(ages)\n",
    "\n",
    "ages.append(max_age)\n",
    "print(ages)\n",
    "\n",
    "# Find the median age (one middle item or two middle items divided by two)\n",
    "length=len(ages)\n",
    "if(length%2==0):     # If length of list is even\n",
    "    median=(ages[(int)(length/2)]+ages[(int)((length/2)-1)])/2\n",
    "else:                # If length of list is odd\n",
    "    median=ages[(int)((length-1)/2)]\n",
    "print(median)\n",
    "\n",
    "# Find the average age (sum of all items divided by their number)\n",
    "#sum() and len() are built-in functions in python which can be used to find average.\n",
    "avg=sum(ages)/len(ages)\n",
    "print(avg)\n",
    "\n",
    "# Find the range of the ages (max minus min)\n",
    "# max() and min() are built-in functions to find maximum and minimum values in a list respectively\n",
    "range1=max(ages) - min(ages)\n",
    "print(range1)\n"
   ]
  },
  {
   "cell_type": "code",
   "execution_count": 58,
   "id": "0306eda5",
   "metadata": {},
   "outputs": [
    {
     "name": "stdout",
     "output_type": "stream",
     "text": [
      "{}\n",
      "{'name': 'Lucy', 'color': 'white', 'legs': 4, 'age': 3}\n",
      "{'first_name': 'Nikitha', 'last_name': 'Bukka', 'gender': 'Female', 'age': 24, 'marital status': 'Single', 'skills': ['Python'], 'country': 'India', 'city': 'hyderabad', 'address': 'Apt 143'}\n",
      "9\n",
      "['Python']\n",
      "<class 'list'>\n",
      "{'first_name': 'Nikitha', 'last_name': 'Bukka', 'gender': 'Female', 'age': 24, 'marital status': 'Single', 'skills': ['Python', 'Java', 'SAP PO', 'MySQL'], 'country': 'India', 'city': 'hyderabad', 'address': 'Apt 143'}\n",
      "dict_keys(['first_name', 'last_name', 'gender', 'age', 'marital status', 'skills', 'country', 'city', 'address'])\n",
      "dict_values(['Nikitha', 'Bukka', 'Female', 24, 'Single', ['Python', 'Java', 'SAP PO', 'MySQL'], 'India', 'hyderabad', 'Apt 143'])\n"
     ]
    }
   ],
   "source": [
    "#Create an empty dictionary called dog\n",
    "dog = {}\n",
    "print(dog)\n",
    "\n",
    "#Add name, color, breed, legs, age to the dog dictionary\n",
    "dog={\n",
    "    'name':'Lucy',\n",
    "    'color':'white',\n",
    "    'legs':4,\n",
    "    'age':3,\n",
    "}\n",
    "print(dog)\n",
    "\n",
    "#Create a student dictionary and add first_name, last_name, gender, age, marital status,skills, country, city and address as keys for the dictionary\n",
    "student={}\n",
    "student['first_name']='Nikitha'\n",
    "student['last_name']='Bukka'\n",
    "student['gender']='Female'\n",
    "student['age']=24\n",
    "student['marital status']='Single'\n",
    "student['skills']=['Python']\n",
    "student['country']='India'\n",
    "student['city']='hyderabad'\n",
    "student['address']='Apt 143'\n",
    "print(student)\n",
    "\n",
    "#Get the length of the student dictionary\n",
    "print(len(student))\n",
    "\n",
    "#Get the value of skills and check the data type, it should be a list\n",
    "print(student['skills'])\n",
    "print(type(student['skills']))\n",
    "\n",
    "#Modify the skills values by adding one or two skills\n",
    "student.update({'skills':['Python','Java','SAP PO','MySQL']})\n",
    "print(student)\n",
    "\n",
    "#Get the dictionary keys as a list\n",
    "print(student.keys())\n",
    "\n",
    "#Get the dictionary values as a list\n",
    "print(student.values())\n"
   ]
  },
  {
   "cell_type": "code",
   "execution_count": 66,
   "id": "3ec08c60",
   "metadata": {},
   "outputs": [
    {
     "name": "stdout",
     "output_type": "stream",
     "text": [
      "('Sushma', 'Ramya')\n",
      "('Sampath', 'Hannie', 'Harsha')\n",
      "('Sushma', 'Ramya', 'Sampath', 'Hannie', 'Harsha')\n",
      "5\n",
      "('Sushma', 'Ramya', 'Sampath', 'Hannie', 'Harsha', 'Ramesh', 'Swaroopa')\n"
     ]
    }
   ],
   "source": [
    "#Create a tuple containing names of your sisters and your brothers (imaginary siblings are fine)\n",
    "sisters=(\"Sushma\",\"Ramya\")\n",
    "Brothers=(\"Sampath\",\"Hannie\",\"Harsha\")\n",
    "print(sisters)\n",
    "print(Brothers)\n",
    "\n",
    "#Join brothers and sisters tuples and assign it to siblings\n",
    "siblings=sisters+Brothers\n",
    "print(siblings)\n",
    "\n",
    "#How many siblings do you have?\n",
    "print(len(siblings))\n",
    "\n",
    "#Modify the siblings tuple and add the name of your father and mother and assign it to family_members\n",
    "family_members=siblings+(\"Ramesh\",\"Swaroopa\")\n",
    "print(family_members)"
   ]
  },
  {
   "cell_type": "code",
   "execution_count": 70,
   "id": "797fc7bc",
   "metadata": {},
   "outputs": [
    {
     "name": "stdout",
     "output_type": "stream",
     "text": [
      "7\n",
      "{'Microsoft', 'Google', 'Apple', 'Amazon', 'Twitter', 'Facebook', 'IBM', 'Oracle'}\n",
      "{'Microsoft', 'Amazon', 'IBM', 'TCS', 'Oracle', 'Google', 'Apple', 'Capgemini', 'Cognizant', 'Twitter', 'Facebook'}\n",
      "{'Microsoft', 'Amazon', 'IBM', 'TCS', 'Oracle', 'Google', 'Apple', 'Capgemini', 'Twitter', 'Facebook'}\n",
      "{19, 20, 22, 24, 25, 26, 27, 28}\n",
      "{19, 20, 22, 24, 25, 26}\n",
      "True\n",
      "False\n",
      "{19, 20, 22, 24, 25, 26, 27, 28}\n",
      "{19, 20, 22, 24, 25, 26, 27, 28}\n",
      "{27, 28}\n",
      "set()\n",
      "set()\n",
      "set()\n",
      "{19, 22, 24, 25, 26}\n",
      "True\n"
     ]
    }
   ],
   "source": [
    "it_companies={'Facebook','Google','Microsoft','Apple','IBM','Oracle','Amazon'}\n",
    "\n",
    "#Find the length of the set it_companies\n",
    "print(len(it_companies))\n",
    "\n",
    "#adding Twitter to a set\n",
    "it_companies.add('Twitter')\n",
    "print(it_companies)\n",
    "\n",
    "#Insert multiple IT companies at once to the set it_companies\n",
    "it_companies.update(['TCS','Cognizant','Capgemini'])\n",
    "print(it_companies)\n",
    "\n",
    "#Remove one of the companies from the set it_companies\n",
    "it_companies.remove('Cognizant')\n",
    "print(it_companies)\n",
    "\n",
    "#what is the difference between remove and discard\n",
    "#If the item to remove does not exist in the given set, \"remove\" will raise an error where as \"discard\" will not raise an error\n",
    "\n",
    "#Join A and B\n",
    "A={19,22,24,20,25,26}\n",
    "B={19,22,20,25,26,24,28,27}\n",
    "age=[22,19,24,25,26,24,25,24]\n",
    "print(A.union(B))    # union(), update() are built-in funtions to join 2 sets\n",
    "\n",
    "#Find A intersection B\n",
    "print(A.intersection(B))\n",
    "\n",
    "#Is A subset of B\n",
    "print(A.issubset(B))\n",
    "\n",
    "#Are A and B disjoint sets\n",
    "print(A.isdisjoint(B))\n",
    "\n",
    "#Join A with B and B with A\n",
    "print(A.union(B))\n",
    "print(B.union(A))\n",
    "\n",
    "#What is the symmetric difference between A and B\n",
    "print(A.symmetric_difference(B))\n",
    "\n",
    "#Delete the sets completely\n",
    "it_companies.clear()\n",
    "A.clear()\n",
    "B.clear()\n",
    "print(it_companies)\n",
    "print(A)\n",
    "print(B)\n",
    "\n",
    "#Convert the ages to a set and compare the length of the list and the set\n",
    "Ages=set(age)\n",
    "print(Ages)\n",
    "print(len(Ages)<len(age))\n"
   ]
  },
  {
   "cell_type": "code",
   "execution_count": 71,
   "id": "6ad7a30d",
   "metadata": {},
   "outputs": [
    {
     "name": "stdout",
     "output_type": "stream",
     "text": [
      "2826.0\n",
      "188.4\n",
      "enter the radius:2\n",
      "12.56\n"
     ]
    }
   ],
   "source": [
    "#The radius of a circle is 30 meters.\n",
    "\n",
    "#Calculate the area of a circle and assign the value to a variable name of _area_of_circle_\n",
    "radius1=30\n",
    "pi=3.14\n",
    "_area_of_circle_=pi*radius1*radius1\n",
    "print(_area_of_circle_)\n",
    "\n",
    "#Calculate the circumference of a circle and assign the value to a variable name of _circum_of_circle_\n",
    "_circum_of_circle_=2*pi*radius1\n",
    "print(_circum_of_circle_)\n",
    "\n",
    "#Take radius as user input and calculate the area.\n",
    "radius2=(float)(input(\"enter the radius:\"))\n",
    "area=pi*radius2*radius2\n",
    "print(area)\n"
   ]
  },
  {
   "cell_type": "code",
   "execution_count": 72,
   "id": "a2cfe050",
   "metadata": {},
   "outputs": [
    {
     "name": "stdout",
     "output_type": "stream",
     "text": [
      "{'to', 'teach', 'and', 'people', 'love', 'teacher', 'am', 'a', 'I', 'inspire'}\n",
      "10\n"
     ]
    }
   ],
   "source": [
    "# “I am a teacher and I love to inspire and teach people”\n",
    "#How many unique words have been used in the sentence? Use the split methods and set to get the unique words.\n",
    "str1=\"I am a teacher and I love to inspire and teach people\"\n",
    "S=(set)(str1.split())\n",
    "print(S)\n",
    "print(len(S))"
   ]
  },
  {
   "cell_type": "code",
   "execution_count": 75,
   "id": "7e446222",
   "metadata": {},
   "outputs": [
    {
     "name": "stdout",
     "output_type": "stream",
     "text": [
      "Name\tAge\tCountry\tCity\n",
      "Asabeneh\t250\tFinland\tHelsinki\n"
     ]
    }
   ],
   "source": [
    "#Use a tab escape sequence to get the following lines.\n",
    "#Name Age Country City\n",
    "#Asabeneh 250 Finland Helsinki\n",
    "print(\"Name\\tAge\\tCountry\\tCity\\nAsabeneh\\t250\\tFinland\\tHelsinki\")"
   ]
  },
  {
   "cell_type": "code",
   "execution_count": 76,
   "id": "4a80ccee",
   "metadata": {},
   "outputs": [
    {
     "name": "stdout",
     "output_type": "stream",
     "text": [
      "radius = 10\n",
      "area = 3.14 * radius ** 2\n",
      "The area of a circle with radius 10 is 314 meters square.\n"
     ]
    }
   ],
   "source": [
    "#Use the string formatting method to display the following:\n",
    "radius = 10\n",
    "area = 3.14 * radius ** 2\n",
    "#“The area of a circle with radius 10 is 314 meters square.”\n",
    "\n",
    "print('radius =', 10)\n",
    "print('area =', 3.14, '* radius **', 2)  #two * sign is considered as exponent or power\n",
    "print('The area of a circle with radius', 10, 'is', 314, 'meters square.')"
   ]
  },
  {
   "cell_type": "code",
   "execution_count": 79,
   "id": "ca596d26",
   "metadata": {},
   "outputs": [
    {
     "name": "stdout",
     "output_type": "stream",
     "text": [
      "Enter number of students:4\n",
      "Enter weight in lbs:150\n",
      "Enter weight in lbs:155\n",
      "Enter weight in lbs:145\n",
      "Enter weight in lbs:148\n",
      "[68.0388, 70.30676, 65.77083999999999, 67.131616]\n"
     ]
    }
   ],
   "source": [
    "#Write a program, which reads weights (lbs.) of N students into a list and convert these weights to kilograms in a separate list using Loop. N: No of students (Read input from user)kilograms in a separate list using Loop. N: No of students (Read input from user)\n",
    "#Ex: L1: [150, 155, 145, 148]\n",
    "#Output: [68.03, 70.3, 65.77, 67.13]\n",
    "conversionValue=0.453592     #1 lbs = 0.453592 kgs\n",
    "N=int(input('Enter number of students:'))\n",
    "Lbs=[]\n",
    "Kgs=[]\n",
    "for i in range(0,N):\n",
    "    Lbs.append(int(input('Enter weight in lbs:')))\n",
    "for i in Lbs:\n",
    "    Kgs.append(conversionValue*i)\n",
    "print(Kgs)"
   ]
  },
  {
   "cell_type": "code",
   "execution_count": null,
   "id": "5934fd59",
   "metadata": {},
   "outputs": [],
   "source": []
  }
 ],
 "metadata": {
  "kernelspec": {
   "display_name": "Python 3 (ipykernel)",
   "language": "python",
   "name": "python3"
  },
  "language_info": {
   "codemirror_mode": {
    "name": "ipython",
    "version": 3
   },
   "file_extension": ".py",
   "mimetype": "text/x-python",
   "name": "python",
   "nbconvert_exporter": "python",
   "pygments_lexer": "ipython3",
   "version": "3.11.1"
  }
 },
 "nbformat": 4,
 "nbformat_minor": 5
}
